{
 "cells": [
  {
   "cell_type": "markdown",
   "id": "52197203-0891-4b89-97a0-6299f9810512",
   "metadata": {},
   "source": [
    "RANGE FUNCTION: "
   ]
  },
  {
   "cell_type": "code",
   "execution_count": 1,
   "id": "a497e50c-762e-4d19-a92b-fee8406de80b",
   "metadata": {},
   "outputs": [],
   "source": [
    "mylist = [1,2,3]"
   ]
  },
  {
   "cell_type": "code",
   "execution_count": 2,
   "id": "01ed18bf-060e-4b4a-82a1-59b6a7ce35bd",
   "metadata": {},
   "outputs": [
    {
     "name": "stdout",
     "output_type": "stream",
     "text": [
      "0\n",
      "1\n",
      "2\n",
      "3\n",
      "4\n",
      "5\n",
      "6\n",
      "7\n",
      "8\n",
      "9\n"
     ]
    }
   ],
   "source": [
    "for num in range(10):\n",
    "    print(num)"
   ]
  },
  {
   "cell_type": "code",
   "execution_count": 3,
   "id": "c2f9a747-93ee-4720-af6e-f17d6a6f8fcd",
   "metadata": {},
   "outputs": [
    {
     "name": "stdout",
     "output_type": "stream",
     "text": [
      "3\n",
      "4\n",
      "5\n",
      "6\n",
      "7\n",
      "8\n",
      "9\n"
     ]
    }
   ],
   "source": [
    "for num in range(3,10):\n",
    "    print(num)"
   ]
  },
  {
   "cell_type": "code",
   "execution_count": 4,
   "id": "e6eaf782-e73f-4230-96cd-741c7711758f",
   "metadata": {},
   "outputs": [
    {
     "name": "stdout",
     "output_type": "stream",
     "text": [
      "0\n",
      "2\n",
      "4\n",
      "6\n",
      "8\n"
     ]
    }
   ],
   "source": [
    "for num in range(0,10,2):\n",
    "    print(num)"
   ]
  },
  {
   "cell_type": "markdown",
   "id": "d6bb6ce9-2128-406c-8369-fa7f29fb950f",
   "metadata": {},
   "source": [
    "for num in range(0,11,2):\n",
    "    print(num)"
   ]
  },
  {
   "cell_type": "code",
   "execution_count": 6,
   "id": "9600ec88-b335-4dce-9303-8eddc0096a80",
   "metadata": {},
   "outputs": [
    {
     "data": {
      "text/plain": [
       "[0, 2, 4, 6, 8, 10]"
      ]
     },
     "execution_count": 6,
     "metadata": {},
     "output_type": "execute_result"
    }
   ],
   "source": [
    "list(range(0,11,2))"
   ]
  },
  {
   "cell_type": "markdown",
   "id": "ffea6f1d-9c96-4514-a3cf-28fdc184927d",
   "metadata": {},
   "source": [
    "ENUMERATE FUNCTION: can take any iterable object, and it returns back some sort of index counter and then the object itself, or the element at that particular iteration."
   ]
  },
  {
   "cell_type": "code",
   "execution_count": 10,
   "id": "6f587c83-6725-4a58-9c8c-e94f0fdc19ea",
   "metadata": {},
   "outputs": [
    {
     "name": "stdout",
     "output_type": "stream",
     "text": [
      "At index 0 the letter is a\n",
      "At index 1 the letter is b\n",
      "At index 2 the letter is c\n",
      "At index 3 the letter is d\n",
      "At index 4 the letter is e\n"
     ]
    }
   ],
   "source": [
    "index_count = 0\n",
    "\n",
    "for letter in 'abcde':\n",
    "    print('At index {} the letter is {}'.format(index_count,letter))\n",
    "    index_count += 1\n"
   ]
  },
  {
   "cell_type": "code",
   "execution_count": 11,
   "id": "e063a320-ab89-4e8f-9ee4-dc03256866eb",
   "metadata": {},
   "outputs": [
    {
     "name": "stdout",
     "output_type": "stream",
     "text": [
      "a\n",
      "b\n",
      "c\n",
      "d\n",
      "e\n"
     ]
    }
   ],
   "source": [
    "index_count = 0\n",
    "\n",
    "word = 'abcde'\n",
    "\n",
    "for letter in word:\n",
    "    print(word[index_count])\n",
    "    index_count +=1"
   ]
  },
  {
   "cell_type": "code",
   "execution_count": 15,
   "id": "f2b0a52f-06ea-4fcb-8216-f9d14663e3d1",
   "metadata": {},
   "outputs": [
    {
     "name": "stdout",
     "output_type": "stream",
     "text": [
      "(0, 'a')\n",
      "(1, 'b')\n",
      "(2, 'c')\n",
      "(3, 'd')\n",
      "(4, 'e')\n"
     ]
    }
   ],
   "source": [
    "word = 'abcde'\n",
    "\n",
    "for item in enumerate(word):\n",
    "    print(item)"
   ]
  },
  {
   "cell_type": "code",
   "execution_count": 17,
   "id": "4d7d3dbb-b393-4ad8-b690-02768204ba71",
   "metadata": {},
   "outputs": [
    {
     "name": "stdout",
     "output_type": "stream",
     "text": [
      "0\n",
      "a\n",
      "\n",
      "\n",
      "1\n",
      "b\n",
      "\n",
      "\n",
      "2\n",
      "c\n",
      "\n",
      "\n",
      "3\n",
      "d\n",
      "\n",
      "\n",
      "4\n",
      "e\n",
      "\n",
      "\n"
     ]
    }
   ],
   "source": [
    "word = 'abcde'\n",
    "\n",
    "for index,letter in enumerate(word):\n",
    "    print(index)\n",
    "    print(letter)\n",
    "    print('\\n')"
   ]
  },
  {
   "cell_type": "markdown",
   "id": "bef27c37-65a7-4b78-b2cf-4ba9208ba630",
   "metadata": {},
   "source": [
    "ZIP FUNCTION:"
   ]
  },
  {
   "cell_type": "code",
   "execution_count": 21,
   "id": "5407c54d-4578-4a45-a7e1-4e146fd04f1a",
   "metadata": {},
   "outputs": [],
   "source": [
    "mylist1 = [1,2,3]\n",
    "mylist2 = ('a', 'b', 'c')\n",
    "mylist3 = (300, 400, 500)"
   ]
  },
  {
   "cell_type": "code",
   "execution_count": 22,
   "id": "a00e0d01-c09a-4b4d-8178-bdb9ddd638cc",
   "metadata": {},
   "outputs": [
    {
     "data": {
      "text/plain": [
       "<zip at 0x1044a1ec0>"
      ]
     },
     "execution_count": 22,
     "metadata": {},
     "output_type": "execute_result"
    }
   ],
   "source": [
    "zip(mylist1,mylist2)"
   ]
  },
  {
   "cell_type": "markdown",
   "id": "8d090c21-341d-4c48-84fb-481e02961aad",
   "metadata": {},
   "source": [
    "it doesn't get back anything. it says this ZIP generator is waiting AT a particular location (0x1044a1ec0)  in the memory"
   ]
  },
  {
   "cell_type": "markdown",
   "id": "5819bc2f-d64f-4fc5-bb12-b4d6e99b7601",
   "metadata": {},
   "source": [
    "IF ITERATING THROUGH IT:"
   ]
  },
  {
   "cell_type": "code",
   "execution_count": 20,
   "id": "c21f9ed7-3c66-424d-8bc2-5b8c7aca088d",
   "metadata": {},
   "outputs": [
    {
     "name": "stdout",
     "output_type": "stream",
     "text": [
      "(1, 'a')\n",
      "(2, 'b')\n",
      "(3, 'c')\n"
     ]
    }
   ],
   "source": [
    "for item in zip(mylist1,mylist2):\n",
    "    print(item)"
   ]
  },
  {
   "cell_type": "markdown",
   "id": "27ad7fe8-2806-450c-a62c-cd2c6968820e",
   "metadata": {},
   "source": [
    "zips together two lists (example) and pairs up the items, so that they match together "
   ]
  },
  {
   "cell_type": "code",
   "execution_count": 23,
   "id": "cd63be06-8f34-4d89-aa0d-5b756f79aaf1",
   "metadata": {},
   "outputs": [
    {
     "name": "stdout",
     "output_type": "stream",
     "text": [
      "(1, 'a', 300)\n",
      "(2, 'b', 400)\n",
      "(3, 'c', 500)\n"
     ]
    }
   ],
   "source": [
    "for item in zip(mylist1,mylist2,mylist3):\n",
    "    print(item)"
   ]
  },
  {
   "cell_type": "code",
   "execution_count": 24,
   "id": "6242d060-77b7-48a0-a0bc-9bca93e6b0db",
   "metadata": {},
   "outputs": [],
   "source": [
    "mylist1 = [1,2,3,4,5,6]\n",
    "mylist2 = ('a', 'b', 'c')\n",
    "mylist3 = (300, 400, 500)"
   ]
  },
  {
   "cell_type": "code",
   "execution_count": 25,
   "id": "33439f30-dc43-43ba-8c5e-3bd20fe7a236",
   "metadata": {},
   "outputs": [
    {
     "name": "stdout",
     "output_type": "stream",
     "text": [
      "(1, 'a', 300)\n",
      "(2, 'b', 400)\n",
      "(3, 'c', 500)\n"
     ]
    }
   ],
   "source": [
    "for item in zip(mylist1,mylist2,mylist3):\n",
    "    print(item)"
   ]
  },
  {
   "cell_type": "markdown",
   "id": "e8738103-9af0-4a03-ae71-dca5fc78c8cc",
   "metadata": {},
   "source": [
    "zip is only able to go and zip together as far as the list which is the shortest, it'll just ignore everything else that's extra and won't give an error "
   ]
  },
  {
   "cell_type": "code",
   "execution_count": 26,
   "id": "0fa5c191-3d0d-40da-ae4a-c29c6ae6cba9",
   "metadata": {},
   "outputs": [
    {
     "data": {
      "text/plain": [
       "[(1, 'a'), (2, 'b'), (3, 'c')]"
      ]
     },
     "execution_count": 26,
     "metadata": {},
     "output_type": "execute_result"
    }
   ],
   "source": [
    "list(zip(mylist1,mylist2))"
   ]
  },
  {
   "cell_type": "code",
   "execution_count": 27,
   "id": "25230fda-b54c-4d19-8f7a-082442703a09",
   "metadata": {},
   "outputs": [
    {
     "name": "stdout",
     "output_type": "stream",
     "text": [
      "a\n",
      "b\n",
      "c\n"
     ]
    }
   ],
   "source": [
    "for a,b,c in zip(mylist1,mylist2,mylist3):\n",
    "    print(b)"
   ]
  },
  {
   "cell_type": "markdown",
   "id": "c3778f0d-a59c-4c9b-b2be-3ebf0b5b8b39",
   "metadata": {},
   "source": [
    "IN OPERATOR: can be used in the for loop, and also be used to quickly check if an object is in a list"
   ]
  },
  {
   "cell_type": "code",
   "execution_count": 28,
   "id": "7e2b420d-a175-4e65-a02d-afe0f6b96937",
   "metadata": {},
   "outputs": [
    {
     "data": {
      "text/plain": [
       "False"
      ]
     },
     "execution_count": 28,
     "metadata": {},
     "output_type": "execute_result"
    }
   ],
   "source": [
    "'x' in [1,2,3]"
   ]
  },
  {
   "cell_type": "code",
   "execution_count": 29,
   "id": "4decfa02-a81a-426c-9611-32a2ae55d8c0",
   "metadata": {},
   "outputs": [
    {
     "data": {
      "text/plain": [
       "True"
      ]
     },
     "execution_count": 29,
     "metadata": {},
     "output_type": "execute_result"
    }
   ],
   "source": [
    "'x' in ['x','y','z']"
   ]
  },
  {
   "cell_type": "markdown",
   "id": "9d14870a-adae-49a8-850e-467362eb3b48",
   "metadata": {},
   "source": [
    "in operator can also be used in strings, dictionaries for their keys"
   ]
  },
  {
   "cell_type": "code",
   "execution_count": 31,
   "id": "65b3f3c7-d14a-4073-bd4b-0cd4f99c5f65",
   "metadata": {},
   "outputs": [
    {
     "data": {
      "text/plain": [
       "True"
      ]
     },
     "execution_count": 31,
     "metadata": {},
     "output_type": "execute_result"
    }
   ],
   "source": [
    "'a' in 'a world is waiting'"
   ]
  },
  {
   "cell_type": "code",
   "execution_count": 32,
   "id": "939d4431-bdce-4223-a2f2-263dbb101862",
   "metadata": {},
   "outputs": [
    {
     "data": {
      "text/plain": [
       "True"
      ]
     },
     "execution_count": 32,
     "metadata": {},
     "output_type": "execute_result"
    }
   ],
   "source": [
    "'mykey' in {'mykey':345}"
   ]
  },
  {
   "cell_type": "code",
   "execution_count": 36,
   "id": "71e05835-d523-4157-b6e6-6529f1d92e2f",
   "metadata": {},
   "outputs": [
    {
     "data": {
      "text/plain": [
       "True"
      ]
     },
     "execution_count": 36,
     "metadata": {},
     "output_type": "execute_result"
    }
   ],
   "source": [
    "d = {'mykey':345}\n",
    "\n",
    "345 in d.values()"
   ]
  },
  {
   "cell_type": "code",
   "execution_count": 37,
   "id": "6647a20c-124a-4998-aaf2-1029a58fc53f",
   "metadata": {},
   "outputs": [
    {
     "data": {
      "text/plain": [
       "False"
      ]
     },
     "execution_count": 37,
     "metadata": {},
     "output_type": "execute_result"
    }
   ],
   "source": [
    "345 in d.keys()"
   ]
  },
  {
   "cell_type": "markdown",
   "id": "c70d82b2-433a-453a-a861-21d9afb9e94f",
   "metadata": {},
   "source": [
    "MIN / MAX "
   ]
  },
  {
   "cell_type": "code",
   "execution_count": 38,
   "id": "52682045-bca4-4303-9bd1-82af35b24607",
   "metadata": {},
   "outputs": [],
   "source": [
    "mylist = [10,20,30,40,100]"
   ]
  },
  {
   "cell_type": "code",
   "execution_count": 54,
   "id": "b705f22c-2705-4e5f-856c-d46ad5cff373",
   "metadata": {},
   "outputs": [
    {
     "data": {
      "text/plain": [
       "10"
      ]
     },
     "execution_count": 54,
     "metadata": {},
     "output_type": "execute_result"
    }
   ],
   "source": [
    "min(mylist)"
   ]
  },
  {
   "cell_type": "code",
   "execution_count": 55,
   "id": "adb3e570-2a45-45e1-bb36-33314d8bfae8",
   "metadata": {},
   "outputs": [
    {
     "data": {
      "text/plain": [
       "100"
      ]
     },
     "execution_count": 55,
     "metadata": {},
     "output_type": "execute_result"
    }
   ],
   "source": [
    "max(mylist)"
   ]
  },
  {
   "cell_type": "markdown",
   "id": "1fa3c820-857f-400f-897f-709d81a3623b",
   "metadata": {},
   "source": [
    "RANDOM LIBRARY / SHUFFLE"
   ]
  },
  {
   "cell_type": "code",
   "execution_count": 45,
   "id": "4695ef2b-49d2-4528-814d-aac75f283c01",
   "metadata": {},
   "outputs": [],
   "source": [
    "from random import shuffle\t"
   ]
  },
  {
   "cell_type": "code",
   "execution_count": 48,
   "id": "5ecdfc13-5d29-46ae-b897-29d4cd60206e",
   "metadata": {},
   "outputs": [],
   "source": [
    "shuffle(mylist)"
   ]
  },
  {
   "cell_type": "code",
   "execution_count": 50,
   "id": "74e5ab7a-90e2-4b04-8e2b-322934f24410",
   "metadata": {},
   "outputs": [
    {
     "data": {
      "text/plain": [
       "[30, 20, 10, 40, 100]"
      ]
     },
     "execution_count": 50,
     "metadata": {},
     "output_type": "execute_result"
    }
   ],
   "source": [
    "mylist"
   ]
  },
  {
   "cell_type": "code",
   "execution_count": 51,
   "id": "4db28e65-5c7c-4b5b-bb33-756e1dc71b5e",
   "metadata": {},
   "outputs": [
    {
     "data": {
      "text/plain": [
       "[30, 20, 10, 40, 100]"
      ]
     },
     "execution_count": 51,
     "metadata": {},
     "output_type": "execute_result"
    }
   ],
   "source": [
    "mylist"
   ]
  },
  {
   "cell_type": "code",
   "execution_count": 52,
   "id": "db2ef61f-f491-4496-81ed-f41ceeac20b7",
   "metadata": {},
   "outputs": [],
   "source": [
    "shuffle(mylist)"
   ]
  },
  {
   "cell_type": "code",
   "execution_count": 53,
   "id": "8726ca2a-c10a-49c5-8d55-72072904d2f6",
   "metadata": {},
   "outputs": [
    {
     "data": {
      "text/plain": [
       "[10, 30, 20, 100, 40]"
      ]
     },
     "execution_count": 53,
     "metadata": {},
     "output_type": "execute_result"
    }
   ],
   "source": [
    "mylist"
   ]
  },
  {
   "cell_type": "markdown",
   "id": "5cd06d75-4cde-4e6a-ae8b-8195f4a08e1a",
   "metadata": {},
   "source": [
    "RANDINT"
   ]
  },
  {
   "cell_type": "code",
   "execution_count": 57,
   "id": "bd185a3d-43ff-4f84-89a6-8e7a2b5f1856",
   "metadata": {},
   "outputs": [],
   "source": [
    "from random import randint"
   ]
  },
  {
   "cell_type": "code",
   "execution_count": 58,
   "id": "6dc7fe3c-dd5e-47f0-a088-6a757a49c3bb",
   "metadata": {},
   "outputs": [
    {
     "data": {
      "text/plain": [
       "43"
      ]
     },
     "execution_count": 58,
     "metadata": {},
     "output_type": "execute_result"
    }
   ],
   "source": [
    "randint(0,100)"
   ]
  },
  {
   "cell_type": "code",
   "execution_count": 59,
   "id": "e2597009-56a6-4664-a682-a618044cbcc2",
   "metadata": {},
   "outputs": [
    {
     "data": {
      "text/plain": [
       "78"
      ]
     },
     "execution_count": 59,
     "metadata": {},
     "output_type": "execute_result"
    }
   ],
   "source": [
    "randint(0,100)"
   ]
  },
  {
   "cell_type": "code",
   "execution_count": 60,
   "id": "a494c8a5-cc7c-4113-b02f-f19b52aea905",
   "metadata": {},
   "outputs": [],
   "source": [
    "mynum = randint(0,10)"
   ]
  },
  {
   "cell_type": "code",
   "execution_count": 61,
   "id": "274ee8e7-ca9d-446b-9b82-404b60f08ad9",
   "metadata": {},
   "outputs": [
    {
     "data": {
      "text/plain": [
       "4"
      ]
     },
     "execution_count": 61,
     "metadata": {},
     "output_type": "execute_result"
    }
   ],
   "source": [
    "mynum"
   ]
  },
  {
   "cell_type": "markdown",
   "id": "703d515e-8e6f-4a6b-8023-18e519bd25bd",
   "metadata": {},
   "source": [
    "INPUT FUNCTION"
   ]
  },
  {
   "cell_type": "code",
   "execution_count": 62,
   "id": "e68f74bf-4eff-42db-a7ba-44a40a70491e",
   "metadata": {},
   "outputs": [
    {
     "name": "stdin",
     "output_type": "stream",
     "text": [
      "Enter a number here:  50\n"
     ]
    },
    {
     "data": {
      "text/plain": [
       "'50'"
      ]
     },
     "execution_count": 62,
     "metadata": {},
     "output_type": "execute_result"
    }
   ],
   "source": [
    "input('Enter a number here: ')"
   ]
  },
  {
   "cell_type": "code",
   "execution_count": 63,
   "id": "c7a70e47-c663-4a94-834b-d59acadd9df6",
   "metadata": {},
   "outputs": [
    {
     "name": "stdin",
     "output_type": "stream",
     "text": [
      "What is your name? Jose\n"
     ]
    }
   ],
   "source": [
    "result = input('What is your name?' )"
   ]
  },
  {
   "cell_type": "code",
   "execution_count": 64,
   "id": "ae92c554-c4cb-4322-aefb-2a73989ecef6",
   "metadata": {},
   "outputs": [
    {
     "data": {
      "text/plain": [
       "'Jose'"
      ]
     },
     "execution_count": 64,
     "metadata": {},
     "output_type": "execute_result"
    }
   ],
   "source": [
    "result"
   ]
  },
  {
   "cell_type": "code",
   "execution_count": 65,
   "id": "3d90fe82-bd81-4dc4-b17f-c1f57477115b",
   "metadata": {},
   "outputs": [
    {
     "name": "stdin",
     "output_type": "stream",
     "text": [
      "Favorite Number:  444\n"
     ]
    }
   ],
   "source": [
    "result = input('Favorite Number: ')"
   ]
  },
  {
   "cell_type": "code",
   "execution_count": 66,
   "id": "1443a69d-1a2b-4858-b41d-b6095fccf784",
   "metadata": {},
   "outputs": [
    {
     "data": {
      "text/plain": [
       "'444'"
      ]
     },
     "execution_count": 66,
     "metadata": {},
     "output_type": "execute_result"
    }
   ],
   "source": [
    "result"
   ]
  },
  {
   "cell_type": "code",
   "execution_count": 67,
   "id": "264d043b-d027-4dc5-8bf6-426856f93110",
   "metadata": {},
   "outputs": [
    {
     "data": {
      "text/plain": [
       "str"
      ]
     },
     "execution_count": 67,
     "metadata": {},
     "output_type": "execute_result"
    }
   ],
   "source": [
    "type(result)"
   ]
  },
  {
   "cell_type": "code",
   "execution_count": 68,
   "id": "291c7c72-af7b-426a-a2c6-635390187ea6",
   "metadata": {},
   "outputs": [
    {
     "data": {
      "text/plain": [
       "444.0"
      ]
     },
     "execution_count": 68,
     "metadata": {},
     "output_type": "execute_result"
    }
   ],
   "source": [
    "float(result)\n"
   ]
  },
  {
   "cell_type": "code",
   "execution_count": 69,
   "id": "4f91050b-0c4d-4e4a-96b6-0ae9342e4294",
   "metadata": {},
   "outputs": [
    {
     "data": {
      "text/plain": [
       "444"
      ]
     },
     "execution_count": 69,
     "metadata": {},
     "output_type": "execute_result"
    }
   ],
   "source": [
    "int(result)"
   ]
  },
  {
   "cell_type": "code",
   "execution_count": 70,
   "id": "f2a9d459-0d1e-4999-8be8-afdb9306e07c",
   "metadata": {},
   "outputs": [
    {
     "data": {
      "text/plain": [
       "'444'"
      ]
     },
     "execution_count": 70,
     "metadata": {},
     "output_type": "execute_result"
    }
   ],
   "source": [
    "result"
   ]
  },
  {
   "cell_type": "code",
   "execution_count": 71,
   "id": "0af73e10-52c3-445f-8874-83f40bc9beac",
   "metadata": {},
   "outputs": [
    {
     "data": {
      "text/plain": [
       "str"
      ]
     },
     "execution_count": 71,
     "metadata": {},
     "output_type": "execute_result"
    }
   ],
   "source": [
    "type(result)"
   ]
  },
  {
   "cell_type": "code",
   "execution_count": 77,
   "id": "a030b524-2b53-466e-b794-c87431429500",
   "metadata": {},
   "outputs": [
    {
     "name": "stdin",
     "output_type": "stream",
     "text": [
      "Favorite Number:  444\n"
     ]
    }
   ],
   "source": [
    "result = int(input('Favorite Number: '))"
   ]
  },
  {
   "cell_type": "code",
   "execution_count": 78,
   "id": "a35f8ec3-ba26-461d-80da-ebb28c453b8e",
   "metadata": {},
   "outputs": [
    {
     "data": {
      "text/plain": [
       "int"
      ]
     },
     "execution_count": 78,
     "metadata": {},
     "output_type": "execute_result"
    }
   ],
   "source": [
    "type(result)"
   ]
  },
  {
   "cell_type": "markdown",
   "id": "96d282d1-f522-46ae-a8ef-7c789d9a9249",
   "metadata": {},
   "source": [
    "NOT IN FUNCTION"
   ]
  },
  {
   "cell_type": "code",
   "execution_count": 79,
   "id": "7d3e969f-e3a7-4950-aa6c-ac17091278d5",
   "metadata": {},
   "outputs": [
    {
     "data": {
      "text/plain": [
       "False"
      ]
     },
     "execution_count": 79,
     "metadata": {},
     "output_type": "execute_result"
    }
   ],
   "source": [
    "'x' not in ['x', 'y', 'z']"
   ]
  },
  {
   "cell_type": "code",
   "execution_count": 80,
   "id": "5a791d13-31ff-4735-89a6-93c119ddd6ee",
   "metadata": {},
   "outputs": [
    {
     "data": {
      "text/plain": [
       "True"
      ]
     },
     "execution_count": 80,
     "metadata": {},
     "output_type": "execute_result"
    }
   ],
   "source": [
    "'x' not in [1,2,3]"
   ]
  },
  {
   "cell_type": "code",
   "execution_count": null,
   "id": "881261f5-f3a0-4eb8-8af4-2af9e8d2b38c",
   "metadata": {},
   "outputs": [],
   "source": []
  }
 ],
 "metadata": {
  "kernelspec": {
   "display_name": "Python 3 (ipykernel)",
   "language": "python",
   "name": "python3"
  },
  "language_info": {
   "codemirror_mode": {
    "name": "ipython",
    "version": 3
   },
   "file_extension": ".py",
   "mimetype": "text/x-python",
   "name": "python",
   "nbconvert_exporter": "python",
   "pygments_lexer": "ipython3",
   "version": "3.11.7"
  }
 },
 "nbformat": 4,
 "nbformat_minor": 5
}
