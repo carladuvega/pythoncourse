{
 "cells": [
  {
   "cell_type": "code",
   "execution_count": 1,
   "id": "a4d2a833-b75b-4fdc-9c83-02c5430be726",
   "metadata": {},
   "outputs": [],
   "source": [
    "my_list = [1,2,3]"
   ]
  },
  {
   "cell_type": "code",
   "execution_count": 2,
   "id": "8cca4273-adbe-4f18-9222-fcb97005fc27",
   "metadata": {},
   "outputs": [],
   "source": [
    "my_list = ['STRING',100,23.3]"
   ]
  },
  {
   "cell_type": "code",
   "execution_count": 3,
   "id": "8b50fee7-1321-43be-becf-844c3822299e",
   "metadata": {},
   "outputs": [
    {
     "data": {
      "text/plain": [
       "3"
      ]
     },
     "execution_count": 3,
     "metadata": {},
     "output_type": "execute_result"
    }
   ],
   "source": [
    "len(my_list)"
   ]
  },
  {
   "cell_type": "code",
   "execution_count": 4,
   "id": "52c4c6cf-b5ad-4ad2-be16-50de5924a1cf",
   "metadata": {},
   "outputs": [],
   "source": [
    "mylist= ['one','two', 'three']"
   ]
  },
  {
   "cell_type": "markdown",
   "id": "5a147ecd-5dd6-4505-a250-027aa4908eba",
   "metadata": {},
   "source": [
    "INDEXING = STRINGS"
   ]
  },
  {
   "cell_type": "code",
   "execution_count": 5,
   "id": "52f00d32-a2bd-413a-945f-558170082170",
   "metadata": {},
   "outputs": [
    {
     "data": {
      "text/plain": [
       "'one'"
      ]
     },
     "execution_count": 5,
     "metadata": {},
     "output_type": "execute_result"
    }
   ],
   "source": [
    "mylist[0]"
   ]
  },
  {
   "cell_type": "markdown",
   "id": "8400604a-d1ca-4672-b4f6-c1ac7e767519",
   "metadata": {},
   "source": [
    "SLICING = STRINGS"
   ]
  },
  {
   "cell_type": "code",
   "execution_count": 6,
   "id": "c73cf491-da2b-4a11-a5b2-ca5d24a454e1",
   "metadata": {},
   "outputs": [
    {
     "data": {
      "text/plain": [
       "['two', 'three']"
      ]
     },
     "execution_count": 6,
     "metadata": {},
     "output_type": "execute_result"
    }
   ],
   "source": [
    "mylist[1:]"
   ]
  },
  {
   "cell_type": "markdown",
   "id": "aaf16f2e-fa45-4a00-803b-a178daa637a8",
   "metadata": {},
   "source": [
    "CONCATENATION = STRINGS"
   ]
  },
  {
   "cell_type": "code",
   "execution_count": 7,
   "id": "173f1754-555a-40b5-9dd6-9eee3d1d55a4",
   "metadata": {},
   "outputs": [
    {
     "data": {
      "text/plain": [
       "['one', 'two', 'three']"
      ]
     },
     "execution_count": 7,
     "metadata": {},
     "output_type": "execute_result"
    }
   ],
   "source": [
    "mylist"
   ]
  },
  {
   "cell_type": "code",
   "execution_count": 8,
   "id": "f537efb8-fe67-4e60-b785-85423446cba0",
   "metadata": {},
   "outputs": [],
   "source": [
    "another_list = ['four','five','six','seven']"
   ]
  },
  {
   "cell_type": "code",
   "execution_count": 9,
   "id": "7c609169-f569-429e-aea2-c81810159d2e",
   "metadata": {},
   "outputs": [
    {
     "data": {
      "text/plain": [
       "['one', 'two', 'three', 'four', 'five', 'six', 'seven']"
      ]
     },
     "execution_count": 9,
     "metadata": {},
     "output_type": "execute_result"
    }
   ],
   "source": [
    "mylist + another_list"
   ]
  },
  {
   "cell_type": "code",
   "execution_count": 10,
   "id": "675ef164-568f-4fae-b83f-11572abaf70d",
   "metadata": {},
   "outputs": [
    {
     "data": {
      "text/plain": [
       "['one', 'two', 'three']"
      ]
     },
     "execution_count": 10,
     "metadata": {},
     "output_type": "execute_result"
    }
   ],
   "source": [
    "mylist"
   ]
  },
  {
   "cell_type": "code",
   "execution_count": 11,
   "id": "665abfb3-f30a-42cb-aa99-d4b8ea244b9d",
   "metadata": {},
   "outputs": [
    {
     "data": {
      "text/plain": [
       "['four', 'five', 'six', 'seven']"
      ]
     },
     "execution_count": 11,
     "metadata": {},
     "output_type": "execute_result"
    }
   ],
   "source": [
    "another_list"
   ]
  },
  {
   "cell_type": "code",
   "execution_count": 12,
   "id": "68c857cb-2da9-45ef-9247-45d548643c70",
   "metadata": {},
   "outputs": [],
   "source": [
    "new_list= mylist+another_list"
   ]
  },
  {
   "cell_type": "code",
   "execution_count": 13,
   "id": "cae52636-b5a7-44f2-8b20-381016c3de38",
   "metadata": {},
   "outputs": [
    {
     "data": {
      "text/plain": [
       "['one', 'two', 'three', 'four', 'five', 'six', 'seven']"
      ]
     },
     "execution_count": 13,
     "metadata": {},
     "output_type": "execute_result"
    }
   ],
   "source": [
    "new_list"
   ]
  },
  {
   "cell_type": "markdown",
   "id": "be95ce2c-b7e7-4b0b-816b-6397092fc3fe",
   "metadata": {},
   "source": [
    "MUTABILITY OF LISTS ≠ STRINGS (UNMUTABLE)"
   ]
  },
  {
   "cell_type": "code",
   "execution_count": 14,
   "id": "1f49dbe9-d9f4-439c-9a44-65e8344d8da1",
   "metadata": {},
   "outputs": [
    {
     "data": {
      "text/plain": [
       "['one', 'two', 'three', 'four', 'five', 'six', 'seven']"
      ]
     },
     "execution_count": 14,
     "metadata": {},
     "output_type": "execute_result"
    }
   ],
   "source": [
    "new_list"
   ]
  },
  {
   "cell_type": "code",
   "execution_count": 15,
   "id": "044b8e0c-e8b1-4c6d-8db6-471c78dcbc14",
   "metadata": {},
   "outputs": [],
   "source": [
    "new_list[0]= \"ONE ALL CAPS\""
   ]
  },
  {
   "cell_type": "code",
   "execution_count": 16,
   "id": "3a5df027-a04a-4503-83b2-069cb58b15b8",
   "metadata": {},
   "outputs": [
    {
     "data": {
      "text/plain": [
       "['ONE ALL CAPS', 'two', 'three', 'four', 'five', 'six', 'seven']"
      ]
     },
     "execution_count": 16,
     "metadata": {},
     "output_type": "execute_result"
    }
   ],
   "source": [
    "new_list"
   ]
  },
  {
   "cell_type": "markdown",
   "id": "0d0bbe5a-4a49-4360-9bd9-cba6e3f81413",
   "metadata": {},
   "source": [
    "ADD ELEMENTS TO A LIST"
   ]
  },
  {
   "cell_type": "code",
   "execution_count": 18,
   "id": "85a4edf2-ec5a-4186-bf97-766fe6e48623",
   "metadata": {},
   "outputs": [],
   "source": [
    "new_list.append(\"eight\")"
   ]
  },
  {
   "cell_type": "code",
   "execution_count": 19,
   "id": "17c813d8-5ecc-469a-84e7-53b5c8ad3be1",
   "metadata": {},
   "outputs": [
    {
     "data": {
      "text/plain": [
       "['ONE ALL CAPS', 'two', 'three', 'four', 'five', 'six', 'seven', 'eight']"
      ]
     },
     "execution_count": 19,
     "metadata": {},
     "output_type": "execute_result"
    }
   ],
   "source": [
    "new_list"
   ]
  },
  {
   "cell_type": "code",
   "execution_count": 22,
   "id": "7a6b9411-8015-46a9-9589-264638c6f239",
   "metadata": {},
   "outputs": [],
   "source": [
    "new_list.append('nine')"
   ]
  },
  {
   "cell_type": "code",
   "execution_count": 21,
   "id": "c2165617-9b95-4f11-adbf-d31ba5970ace",
   "metadata": {},
   "outputs": [
    {
     "data": {
      "text/plain": [
       "['ONE ALL CAPS',\n",
       " 'two',\n",
       " 'three',\n",
       " 'four',\n",
       " 'five',\n",
       " 'six',\n",
       " 'seven',\n",
       " 'eight',\n",
       " 'nine']"
      ]
     },
     "execution_count": 21,
     "metadata": {},
     "output_type": "execute_result"
    }
   ],
   "source": [
    "new_list"
   ]
  },
  {
   "cell_type": "markdown",
   "id": "b9092d06-2fc2-4c9f-955e-20df02d30d44",
   "metadata": {},
   "source": [
    "REMOVE ITEMS FROM A LIST"
   ]
  },
  {
   "cell_type": "code",
   "execution_count": 23,
   "id": "91b4529b-5c0b-488e-a0fb-32cda9d286b8",
   "metadata": {},
   "outputs": [
    {
     "data": {
      "text/plain": [
       "'nine'"
      ]
     },
     "execution_count": 23,
     "metadata": {},
     "output_type": "execute_result"
    }
   ],
   "source": [
    "new_list.pop()"
   ]
  },
  {
   "cell_type": "code",
   "execution_count": 24,
   "id": "c9d8987e-ca3b-40e8-9651-d25c5e52c8c8",
   "metadata": {},
   "outputs": [
    {
     "data": {
      "text/plain": [
       "['ONE ALL CAPS',\n",
       " 'two',\n",
       " 'three',\n",
       " 'four',\n",
       " 'five',\n",
       " 'six',\n",
       " 'seven',\n",
       " 'eight',\n",
       " 'nine']"
      ]
     },
     "execution_count": 24,
     "metadata": {},
     "output_type": "execute_result"
    }
   ],
   "source": [
    "new_list"
   ]
  },
  {
   "cell_type": "code",
   "execution_count": 25,
   "id": "e6624758-5250-450e-be43-1892740d1c3e",
   "metadata": {},
   "outputs": [
    {
     "data": {
      "text/plain": [
       "<function list.pop(index=-1, /)>"
      ]
     },
     "execution_count": 25,
     "metadata": {},
     "output_type": "execute_result"
    }
   ],
   "source": [
    "new_list.pop"
   ]
  },
  {
   "cell_type": "code",
   "execution_count": 26,
   "id": "55c5ca5f-0bdd-4e41-969e-67c8fd5125b4",
   "metadata": {},
   "outputs": [
    {
     "data": {
      "text/plain": [
       "'nine'"
      ]
     },
     "execution_count": 26,
     "metadata": {},
     "output_type": "execute_result"
    }
   ],
   "source": [
    "new_list.pop()"
   ]
  },
  {
   "cell_type": "code",
   "execution_count": 27,
   "id": "ef8678c6-2970-4a25-9e86-da77319965cb",
   "metadata": {},
   "outputs": [
    {
     "data": {
      "text/plain": [
       "['ONE ALL CAPS', 'two', 'three', 'four', 'five', 'six', 'seven', 'eight']"
      ]
     },
     "execution_count": 27,
     "metadata": {},
     "output_type": "execute_result"
    }
   ],
   "source": [
    "new_list"
   ]
  },
  {
   "cell_type": "code",
   "execution_count": 28,
   "id": "52267b48-c67f-4054-b155-47192b289d27",
   "metadata": {},
   "outputs": [],
   "source": [
    "popped_item = new_list.pop()"
   ]
  },
  {
   "cell_type": "code",
   "execution_count": 29,
   "id": "fbbd0f3a-911f-4419-820b-298ef541813c",
   "metadata": {},
   "outputs": [
    {
     "data": {
      "text/plain": [
       "'eight'"
      ]
     },
     "execution_count": 29,
     "metadata": {},
     "output_type": "execute_result"
    }
   ],
   "source": [
    "popped_item"
   ]
  },
  {
   "cell_type": "code",
   "execution_count": 30,
   "id": "60091e09-2e6a-4ad2-a568-9b8a48dfffb0",
   "metadata": {},
   "outputs": [
    {
     "data": {
      "text/plain": [
       "['ONE ALL CAPS', 'two', 'three', 'four', 'five', 'six', 'seven']"
      ]
     },
     "execution_count": 30,
     "metadata": {},
     "output_type": "execute_result"
    }
   ],
   "source": [
    "new_list"
   ]
  },
  {
   "cell_type": "code",
   "execution_count": 31,
   "id": "05d691ae-9157-4502-a217-241487b20edf",
   "metadata": {},
   "outputs": [
    {
     "data": {
      "text/plain": [
       "'six'"
      ]
     },
     "execution_count": 31,
     "metadata": {},
     "output_type": "execute_result"
    }
   ],
   "source": [
    "new_list.pop(-2)"
   ]
  },
  {
   "cell_type": "code",
   "execution_count": 32,
   "id": "3b8a1c5a-2012-430c-9aaf-2a06c2210d18",
   "metadata": {},
   "outputs": [
    {
     "data": {
      "text/plain": [
       "['ONE ALL CAPS', 'two', 'three', 'four', 'five', 'seven']"
      ]
     },
     "execution_count": 32,
     "metadata": {},
     "output_type": "execute_result"
    }
   ],
   "source": [
    "new_list"
   ]
  },
  {
   "cell_type": "code",
   "execution_count": 33,
   "id": "c5283884-a9b5-4690-b3af-9694fc620f9c",
   "metadata": {},
   "outputs": [
    {
     "data": {
      "text/plain": [
       "'ONE ALL CAPS'"
      ]
     },
     "execution_count": 33,
     "metadata": {},
     "output_type": "execute_result"
    }
   ],
   "source": [
    "new_list.pop(0)"
   ]
  },
  {
   "cell_type": "code",
   "execution_count": 34,
   "id": "dfd62506-b67b-4660-a640-fd118923ffbd",
   "metadata": {},
   "outputs": [
    {
     "data": {
      "text/plain": [
       "['two', 'three', 'four', 'five', 'seven']"
      ]
     },
     "execution_count": 34,
     "metadata": {},
     "output_type": "execute_result"
    }
   ],
   "source": [
    "new_list"
   ]
  },
  {
   "cell_type": "markdown",
   "id": "48458781-d22a-4181-94c0-6b2d57b57e50",
   "metadata": {},
   "source": [
    "SORT AND REVERSE"
   ]
  },
  {
   "cell_type": "code",
   "execution_count": 35,
   "id": "bec59526-4b85-4a46-80f8-d139c608a014",
   "metadata": {},
   "outputs": [],
   "source": [
    "new_list = ['a','e','x','b','c']\n",
    "num_list = [4,3,8,1]"
   ]
  },
  {
   "cell_type": "code",
   "execution_count": 36,
   "id": "70ba3fda-1f89-4ca4-b95f-92b55d2ebfd5",
   "metadata": {},
   "outputs": [],
   "source": [
    "new_list.sort()"
   ]
  },
  {
   "cell_type": "code",
   "execution_count": 37,
   "id": "ee79735d-df38-4abd-9e8c-ce8c4e4fa71d",
   "metadata": {},
   "outputs": [
    {
     "data": {
      "text/plain": [
       "['a', 'b', 'c', 'e', 'x']"
      ]
     },
     "execution_count": 37,
     "metadata": {},
     "output_type": "execute_result"
    }
   ],
   "source": [
    "new_list"
   ]
  },
  {
   "cell_type": "markdown",
   "id": "f88caab5-a7f4-44a8-ac20-5a917dde21af",
   "metadata": {},
   "source": [
    "**NO REASIGNAR EL MÉTODO SORT, YA QUE SE HACE \"IN PLACE\", AL IGUAL QUE EL REVERSE.**"
   ]
  },
  {
   "cell_type": "code",
   "execution_count": 38,
   "id": "9f5d4d04-6f6c-4a41-b4ad-450d06ef25e2",
   "metadata": {},
   "outputs": [
    {
     "data": {
      "text/plain": [
       "[4, 3, 8, 1]"
      ]
     },
     "execution_count": 38,
     "metadata": {},
     "output_type": "execute_result"
    }
   ],
   "source": [
    "num_list"
   ]
  },
  {
   "cell_type": "code",
   "execution_count": 41,
   "id": "845141f2-9304-4386-8192-e1f53a144dea",
   "metadata": {},
   "outputs": [],
   "source": [
    "num_list.sort()"
   ]
  },
  {
   "cell_type": "code",
   "execution_count": 42,
   "id": "c85d5b1f-c0fd-4dfe-9f2d-9ae661a8d056",
   "metadata": {},
   "outputs": [
    {
     "data": {
      "text/plain": [
       "[1, 3, 4, 8]"
      ]
     },
     "execution_count": 42,
     "metadata": {},
     "output_type": "execute_result"
    }
   ],
   "source": [
    "num_list"
   ]
  },
  {
   "cell_type": "code",
   "execution_count": 44,
   "id": "4dd7e86f-b5f9-4f68-a2dc-e38999bc433a",
   "metadata": {},
   "outputs": [],
   "source": [
    "num_list.reverse()"
   ]
  },
  {
   "cell_type": "code",
   "execution_count": 45,
   "id": "c29c918a-0115-491f-9687-aa41b630c4c6",
   "metadata": {},
   "outputs": [
    {
     "data": {
      "text/plain": [
       "[1, 3, 4, 8]"
      ]
     },
     "execution_count": 45,
     "metadata": {},
     "output_type": "execute_result"
    }
   ],
   "source": [
    "num_list"
   ]
  },
  {
   "cell_type": "code",
   "execution_count": 46,
   "id": "b29c13fa-102f-4089-b521-3bb7ef5cc0c0",
   "metadata": {},
   "outputs": [],
   "source": [
    "new_list.reverse()"
   ]
  },
  {
   "cell_type": "code",
   "execution_count": 47,
   "id": "42bc9384-e04b-4610-9db5-c8994d0cbae4",
   "metadata": {},
   "outputs": [
    {
     "data": {
      "text/plain": [
       "['x', 'e', 'c', 'b', 'a']"
      ]
     },
     "execution_count": 47,
     "metadata": {},
     "output_type": "execute_result"
    }
   ],
   "source": [
    "new_list"
   ]
  },
  {
   "cell_type": "code",
   "execution_count": 48,
   "id": "465ccd52-60eb-4829-bdc8-6ae7cf404264",
   "metadata": {},
   "outputs": [],
   "source": [
    "num_list.reverse()"
   ]
  },
  {
   "cell_type": "code",
   "execution_count": 49,
   "id": "582424d3-4679-44e4-8ebd-30328bf41773",
   "metadata": {},
   "outputs": [
    {
     "data": {
      "text/plain": [
       "[8, 4, 3, 1]"
      ]
     },
     "execution_count": 49,
     "metadata": {},
     "output_type": "execute_result"
    }
   ],
   "source": [
    "num_list"
   ]
  },
  {
   "cell_type": "markdown",
   "id": "b8951d52-b94f-4800-aa0f-893fe8f224d2",
   "metadata": {},
   "source": [
    "*How to grab an element from a nested list?*\n",
    " \n",
    "mylist=[1,1[1,2]]\n",
    "       (elem0,elem1,elem2)inside elem2:(elem0,elem1)\n",
    "\n",
    "For indexing the nested list and grab 2 from the list:\n",
    "\n",
    "mylist[2][1]\n"
   ]
  },
  {
   "cell_type": "code",
   "execution_count": null,
   "id": "b2020b7f-a0ae-4431-bade-5262327b33e0",
   "metadata": {},
   "outputs": [],
   "source": []
  }
 ],
 "metadata": {
  "kernelspec": {
   "display_name": "Python 3 (ipykernel)",
   "language": "python",
   "name": "python3"
  },
  "language_info": {
   "codemirror_mode": {
    "name": "ipython",
    "version": 3
   },
   "file_extension": ".py",
   "mimetype": "text/x-python",
   "name": "python",
   "nbconvert_exporter": "python",
   "pygments_lexer": "ipython3",
   "version": "3.11.7"
  }
 },
 "nbformat": 4,
 "nbformat_minor": 5
}
