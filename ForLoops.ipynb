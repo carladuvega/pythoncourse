{
 "cells": [
  {
   "cell_type": "markdown",
   "id": "85395099-ce0f-4b33-8ca6-45fc8af78e8c",
   "metadata": {},
   "source": [
    "FOR LOOP (LIST EXAMPLES)"
   ]
  },
  {
   "cell_type": "code",
   "execution_count": 1,
   "id": "cdcb101b-24f3-4eba-8b0e-509f9b04053b",
   "metadata": {},
   "outputs": [],
   "source": [
    "mylist = [1,2,3,4,5,6,7,8,9,10]"
   ]
  },
  {
   "cell_type": "code",
   "execution_count": 2,
   "id": "4990e02d-fe55-44ad-8a9e-91e7c6582234",
   "metadata": {},
   "outputs": [
    {
     "name": "stdout",
     "output_type": "stream",
     "text": [
      "1\n",
      "2\n",
      "3\n",
      "4\n",
      "5\n",
      "6\n",
      "7\n",
      "8\n",
      "9\n",
      "10\n"
     ]
    }
   ],
   "source": [
    "for num in mylist:\n",
    "    print(num)"
   ]
  },
  {
   "cell_type": "code",
   "execution_count": 3,
   "id": "578f6064-80c5-46aa-8617-194c20b6d2fb",
   "metadata": {},
   "outputs": [
    {
     "name": "stdout",
     "output_type": "stream",
     "text": [
      "hello\n",
      "hello\n",
      "hello\n",
      "hello\n",
      "hello\n",
      "hello\n",
      "hello\n",
      "hello\n",
      "hello\n",
      "hello\n"
     ]
    }
   ],
   "source": [
    "for jelly in mylist:\n",
    "    print('hello')"
   ]
  },
  {
   "cell_type": "code",
   "execution_count": 4,
   "id": "d0112317-44c6-479a-b2c9-84c1c238de82",
   "metadata": {},
   "outputs": [
    {
     "name": "stdout",
     "output_type": "stream",
     "text": [
      "hello\n",
      "hello\n",
      "hello\n",
      "hello\n",
      "hello\n",
      "hello\n",
      "hello\n",
      "hello\n",
      "hello\n",
      "hello\n"
     ]
    }
   ],
   "source": [
    "for num in mylist:\n",
    "    print('hello')"
   ]
  },
  {
   "cell_type": "code",
   "execution_count": 5,
   "id": "6c2b2ef7-2bb8-48ee-ba5a-79d47b8125f7",
   "metadata": {},
   "outputs": [
    {
     "name": "stdout",
     "output_type": "stream",
     "text": [
      "1\n",
      "2\n",
      "3\n",
      "4\n",
      "5\n",
      "6\n",
      "7\n",
      "8\n",
      "9\n",
      "10\n"
     ]
    }
   ],
   "source": [
    "for num in mylist:\n",
    "    print(num)"
   ]
  },
  {
   "cell_type": "markdown",
   "id": "b77b078c-2aed-444b-b59b-2dc524279b13",
   "metadata": {},
   "source": [
    "FOR LOOPS AND CONTROL FLOW"
   ]
  },
  {
   "cell_type": "code",
   "execution_count": 6,
   "id": "f9307b11-c992-47f1-8bcf-e1ae6c28b1eb",
   "metadata": {},
   "outputs": [
    {
     "name": "stdout",
     "output_type": "stream",
     "text": [
      "2\n",
      "4\n",
      "6\n",
      "8\n",
      "10\n"
     ]
    }
   ],
   "source": [
    "for num in mylist:\n",
    "    #Check for even\n",
    "    if num % 2 == 0:\n",
    "        print(num)"
   ]
  },
  {
   "cell_type": "code",
   "execution_count": 7,
   "id": "9d65f1a3-f427-4b92-8ba6-8e335abd9a37",
   "metadata": {},
   "outputs": [
    {
     "name": "stdout",
     "output_type": "stream",
     "text": [
      "Odd Number:1\n",
      "2\n",
      "Odd Number:3\n",
      "4\n",
      "Odd Number:5\n",
      "6\n",
      "Odd Number:7\n",
      "8\n",
      "Odd Number:9\n",
      "10\n"
     ]
    }
   ],
   "source": [
    "for num in mylist:\n",
    "    if num % 2 == 0:\n",
    "        print(num)\n",
    "    else:\n",
    "        print(f'Odd Number:{num}')"
   ]
  },
  {
   "cell_type": "code",
   "execution_count": 8,
   "id": "2ed3691c-b1e3-4dc4-b513-1c43a13a7c3e",
   "metadata": {},
   "outputs": [
    {
     "name": "stdout",
     "output_type": "stream",
     "text": [
      "55\n"
     ]
    }
   ],
   "source": [
    "list_sum = 0\n",
    "\n",
    "for num in mylist:\n",
    "    list_sum = list_sum + num\n",
    "\n",
    "print(list_sum)"
   ]
  },
  {
   "cell_type": "markdown",
   "id": "3de7428e-a993-4cfd-bbe3-d1508bcf4bce",
   "metadata": {},
   "source": [
    "FOR LOOP (STRING EXAMPLES)"
   ]
  },
  {
   "cell_type": "code",
   "execution_count": 9,
   "id": "ed166c5f-5971-4c2d-b640-374a0e75fade",
   "metadata": {},
   "outputs": [
    {
     "name": "stdout",
     "output_type": "stream",
     "text": [
      "H\n",
      "e\n",
      "l\n",
      "l\n",
      "o\n",
      " \n",
      "W\n",
      "o\n",
      "r\n",
      "l\n",
      "d\n"
     ]
    }
   ],
   "source": [
    "mystring = 'Hello World'\n",
    "\n",
    "for letter in mystring:\n",
    "    print(letter)"
   ]
  },
  {
   "cell_type": "code",
   "execution_count": 13,
   "id": "c4805315-ac7b-4226-bf02-96c1615eae0b",
   "metadata": {},
   "outputs": [
    {
     "name": "stdout",
     "output_type": "stream",
     "text": [
      "Cool!\n",
      "Cool!\n",
      "Cool!\n",
      "Cool!\n",
      "Cool!\n",
      "Cool!\n",
      "Cool!\n",
      "Cool!\n",
      "Cool!\n",
      "Cool!\n",
      "Cool!\n"
     ]
    }
   ],
   "source": [
    "for _ in 'Hello World':\n",
    "    print('Cool!')"
   ]
  },
  {
   "cell_type": "code",
   "execution_count": null,
   "id": "02d3d70c-5ed0-47c6-90b8-61d0bbb95c0d",
   "metadata": {},
   "outputs": [],
   "source": []
  },
  {
   "cell_type": "code",
   "execution_count": 19,
   "id": "364ff2f7-fb37-4107-9f5b-038d9fcfc431",
   "metadata": {},
   "outputs": [
    {
     "name": "stdout",
     "output_type": "stream",
     "text": [
      "H\n",
      "e\n",
      "l\n",
      "l\n",
      "o\n",
      " \n",
      "W\n",
      "o\n",
      "r\n",
      "l\n",
      "d\n"
     ]
    }
   ],
   "source": [
    "for _ in 'Hello World':\n",
    "    print(_)"
   ]
  },
  {
   "cell_type": "markdown",
   "id": "4e961346-7473-42cd-9de9-03620d12d21a",
   "metadata": {},
   "source": [
    "FOR LOOP (TUPLE EXAMPLES)"
   ]
  },
  {
   "cell_type": "code",
   "execution_count": 20,
   "id": "028a4fed-4c06-4cfd-9ce6-20da2c20d684",
   "metadata": {},
   "outputs": [
    {
     "name": "stdout",
     "output_type": "stream",
     "text": [
      "1\n",
      "2\n",
      "3\n"
     ]
    }
   ],
   "source": [
    "tup = (1,2,3)\n",
    "\n",
    "for item in tup: \n",
    "    print(item)"
   ]
  },
  {
   "cell_type": "code",
   "execution_count": 16,
   "id": "4eb6e0ed-3005-4ea4-8714-9b00491aa89a",
   "metadata": {},
   "outputs": [],
   "source": [
    "mylist = [(1,2),(3,4),(5,6),(7,8)]"
   ]
  },
  {
   "cell_type": "code",
   "execution_count": 17,
   "id": "4dec3b54-0bed-4a47-92dd-618f2fc8b2be",
   "metadata": {},
   "outputs": [
    {
     "data": {
      "text/plain": [
       "4"
      ]
     },
     "execution_count": 17,
     "metadata": {},
     "output_type": "execute_result"
    }
   ],
   "source": [
    "len(mylist)"
   ]
  },
  {
   "cell_type": "code",
   "execution_count": 18,
   "id": "1c55896a-f59b-4f06-b27d-7ec7acf3e377",
   "metadata": {},
   "outputs": [
    {
     "name": "stdout",
     "output_type": "stream",
     "text": [
      "(1, 2)\n",
      "(3, 4)\n",
      "(5, 6)\n",
      "(7, 8)\n"
     ]
    }
   ],
   "source": [
    "for item in mylist: \n",
    "    print(item)"
   ]
  },
  {
   "cell_type": "markdown",
   "id": "9ab8d5aa-c970-4aa5-94fb-120b39faec7d",
   "metadata": {},
   "source": [
    "TUPLE UNPACKING "
   ]
  },
  {
   "cell_type": "code",
   "execution_count": 21,
   "id": "fee77789-4ef1-496f-ae71-b36754fe015e",
   "metadata": {},
   "outputs": [
    {
     "name": "stdout",
     "output_type": "stream",
     "text": [
      "1\n",
      "2\n",
      "3\n",
      "4\n",
      "5\n",
      "6\n",
      "7\n",
      "8\n"
     ]
    }
   ],
   "source": [
    "for (a,b) in mylist:\n",
    "    print(a)\n",
    "    print(b)"
   ]
  },
  {
   "cell_type": "code",
   "execution_count": 22,
   "id": "a63987d5-6e0f-49e0-8222-4a0bde92dc96",
   "metadata": {},
   "outputs": [
    {
     "name": "stdout",
     "output_type": "stream",
     "text": [
      "1\n",
      "3\n",
      "5\n",
      "7\n"
     ]
    }
   ],
   "source": [
    "for a,b in mylist:\n",
    "    print(a)"
   ]
  },
  {
   "cell_type": "code",
   "execution_count": 23,
   "id": "64b61813-ad9f-43d6-a5eb-7ac7de59dd53",
   "metadata": {},
   "outputs": [],
   "source": [
    "mylist = [(1,2,3),(4,5,6),(7,8,9)]"
   ]
  },
  {
   "cell_type": "code",
   "execution_count": 24,
   "id": "fe1c061e-4481-42e4-8302-f89c7ad87bf2",
   "metadata": {},
   "outputs": [
    {
     "name": "stdout",
     "output_type": "stream",
     "text": [
      "2\n",
      "5\n",
      "8\n"
     ]
    }
   ],
   "source": [
    "for a,b,c in mylist:\n",
    "    print(b)"
   ]
  },
  {
   "cell_type": "code",
   "execution_count": 25,
   "id": "52a2b364-9944-473a-bef9-23dfedd3fa4f",
   "metadata": {},
   "outputs": [
    {
     "name": "stdout",
     "output_type": "stream",
     "text": [
      "(1, 2, 3)\n",
      "(4, 5, 6)\n",
      "(7, 8, 9)\n"
     ]
    }
   ],
   "source": [
    "for item in mylist: \n",
    "    print(item)"
   ]
  },
  {
   "cell_type": "markdown",
   "id": "227e9e13-e5bd-45f7-95c8-84548cc7e19f",
   "metadata": {},
   "source": [
    "FOR LOOP (DICT EXAMPLES)"
   ]
  },
  {
   "cell_type": "code",
   "execution_count": 26,
   "id": "90fe5f1f-5c39-4f4c-a2bf-d8d0c8415b43",
   "metadata": {},
   "outputs": [
    {
     "name": "stdout",
     "output_type": "stream",
     "text": [
      "k1\n",
      "k2\n",
      "k3\n"
     ]
    }
   ],
   "source": [
    "d = {'k1':1, 'k2':2, 'k3':3}\n",
    "\n",
    "for item in d:\n",
    "    print(item)"
   ]
  },
  {
   "cell_type": "code",
   "execution_count": 27,
   "id": "a8901b33-5a80-497f-9d6d-0084226a4211",
   "metadata": {},
   "outputs": [
    {
     "name": "stdout",
     "output_type": "stream",
     "text": [
      "('k1', 1)\n",
      "('k2', 2)\n",
      "('k3', 3)\n"
     ]
    }
   ],
   "source": [
    "d = {'k1':1, 'k2':2, 'k3':3}\n",
    "\n",
    "for item in d.items():\n",
    "    print(item)"
   ]
  },
  {
   "cell_type": "markdown",
   "id": "72d51f33-fb95-4831-b831-831fdb8a8f3a",
   "metadata": {},
   "source": [
    "SAME TUPLE UNPACKING TECHNIQUE:"
   ]
  },
  {
   "cell_type": "code",
   "execution_count": 28,
   "id": "9df35ff1-6444-4366-96f9-91de12ebefc1",
   "metadata": {},
   "outputs": [
    {
     "name": "stdout",
     "output_type": "stream",
     "text": [
      "1\n",
      "2\n",
      "3\n"
     ]
    }
   ],
   "source": [
    "for key,value in d.items():\n",
    "    print(value)"
   ]
  },
  {
   "cell_type": "code",
   "execution_count": 29,
   "id": "181a7042-c524-4058-95aa-d9a86e7ffe29",
   "metadata": {},
   "outputs": [
    {
     "name": "stdout",
     "output_type": "stream",
     "text": [
      "1\n",
      "2\n",
      "3\n"
     ]
    }
   ],
   "source": [
    "for value in d.values():\n",
    "    print(value)"
   ]
  },
  {
   "cell_type": "code",
   "execution_count": 33,
   "id": "85b612a8-d5a1-401e-82b7-6671ab8fc71a",
   "metadata": {},
   "outputs": [
    {
     "name": "stdout",
     "output_type": "stream",
     "text": [
      "No está\n",
      "No está\n",
      "No está\n",
      "No está\n"
     ]
    }
   ],
   "source": [
    "si = ('Está')\n",
    "no = ('No está')\n",
    "milista = [1,2,3,4]\n",
    "\n",
    "for elem in milista:\n",
    "    if elem == 5:\n",
    "        print(si)\n",
    "    else:\n",
    "        print(no)"
   ]
  },
  {
   "cell_type": "code",
   "execution_count": 34,
   "id": "8452c85a-b0ea-415c-9624-a62080ecf6db",
   "metadata": {},
   "outputs": [
    {
     "data": {
      "text/plain": [
       "1"
      ]
     },
     "execution_count": 34,
     "metadata": {},
     "output_type": "execute_result"
    }
   ],
   "source": [
    "min(milista)"
   ]
  },
  {
   "cell_type": "code",
   "execution_count": 35,
   "id": "86b1fbe9-4cf4-49a9-abd0-1c6fcae752b2",
   "metadata": {},
   "outputs": [
    {
     "data": {
      "text/plain": [
       "4"
      ]
     },
     "execution_count": 35,
     "metadata": {},
     "output_type": "execute_result"
    }
   ],
   "source": [
    "max(milista)"
   ]
  },
  {
   "cell_type": "code",
   "execution_count": 38,
   "id": "fdd0fbe1-322b-428e-be25-8d6d4592a300",
   "metadata": {},
   "outputs": [
    {
     "name": "stdout",
     "output_type": "stream",
     "text": [
      "No está\n",
      "No está\n",
      "No está\n",
      "No está\n"
     ]
    }
   ],
   "source": [
    "elem = 0\n",
    "\n",
    "while milista[elem] != 5:\n",
    "    print(no)\n",
    "    if elem < 3:\n",
    "        elem += 1\n",
    "    else:\n",
    "        break"
   ]
  },
  {
   "cell_type": "code",
   "execution_count": 39,
   "id": "796b2e34-6c32-4faf-8273-8770812d7215",
   "metadata": {},
   "outputs": [
    {
     "name": "stdout",
     "output_type": "stream",
     "text": [
      "['Pedro', 'Chris', 'Juan']\n",
      "Maria\n"
     ]
    }
   ],
   "source": [
    "my_list = ['Pedro', 'Chris', 'Juan', 'Maria']\n",
    "elem = my_list.pop()\n",
    "print(my_list)  \n",
    "print(elem)  "
   ]
  },
  {
   "cell_type": "code",
   "execution_count": null,
   "id": "c8c7e69c-96c7-4d9e-808e-81f6ed462faf",
   "metadata": {},
   "outputs": [],
   "source": [
    "milista."
   ]
  }
 ],
 "metadata": {
  "kernelspec": {
   "display_name": "Python 3 (ipykernel)",
   "language": "python",
   "name": "python3"
  },
  "language_info": {
   "codemirror_mode": {
    "name": "ipython",
    "version": 3
   },
   "file_extension": ".py",
   "mimetype": "text/x-python",
   "name": "python",
   "nbconvert_exporter": "python",
   "pygments_lexer": "ipython3",
   "version": "3.11.7"
  }
 },
 "nbformat": 4,
 "nbformat_minor": 5
}
